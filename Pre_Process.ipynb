{
 "cells": [
  {
   "cell_type": "markdown",
   "metadata": {},
   "source": [
    "##### 1. Fetching data from the dataset\n"
   ]
  },
  {
   "cell_type": "code",
   "execution_count": 9,
   "metadata": {},
   "outputs": [],
   "source": [
    "import requests\n",
    "from bs4 import BeautifulSoup\n",
    "import json\n",
    "\n",
    "url = \"https://www.gutenberg.org/cache/epub/59824/pg59824-images.html\"\n",
    "response = requests.get(url)\n",
    "soup = BeautifulSoup(response.content, 'html.parser')\n",
    "\n",
    "# Titles are displayed in <h4> and <h5>\n",
    "# tags , while the poem themselves are\n",
    "# displayed in <p> tags.    \n",
    "\n",
    "\n",
    "# The first few tags are not useful\n",
    "\n",
    "titles = soup.find_all(['h4', 'h5'])[7:]                                    \n",
    "poems = soup.find_all('p')[8:]\n",
    "\n",
    "poems_data = []\n",
    "for title, poem in zip(titles, poems):\n",
    "    poems_data.append({\n",
    "        \"title\": title.text.strip(),\n",
    "        \"content\": poem.text.strip()\n",
    "    })\n",
    "\n",
    "with open('Robert_Frost_Poem_Collection.json', 'w') as f:\n",
    "    json.dump(poems_data, f, indent=4)\n",
    "\n",
    "# !!! The data is still not proper.\n",
    "# Additional Manual cleaning of data needs to be done.\n",
    "\n",
    "# The file name is intentionally written as Robert_Frost_Poem_Collection and not Robert_Frost_Poem_Collections \n",
    "# so as not to accidentally write over the previous file.\n"
   ]
  },
  {
   "cell_type": "code",
   "execution_count": null,
   "metadata": {},
   "outputs": [],
   "source": []
  }
 ],
 "metadata": {
  "kernelspec": {
   "display_name": "Python 3",
   "language": "python",
   "name": "python3"
  },
  "language_info": {
   "codemirror_mode": {
    "name": "ipython",
    "version": 3
   },
   "file_extension": ".py",
   "mimetype": "text/x-python",
   "name": "python",
   "nbconvert_exporter": "python",
   "pygments_lexer": "ipython3",
   "version": "3.11.9"
  }
 },
 "nbformat": 4,
 "nbformat_minor": 2
}
